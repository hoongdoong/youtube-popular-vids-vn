{
 "cells": [
  {
   "cell_type": "code",
   "execution_count": 2,
   "metadata": {},
   "outputs": [],
   "source": [
    "import json"
   ]
  },
  {
   "cell_type": "code",
   "execution_count": 3,
   "metadata": {},
   "outputs": [
    {
     "name": "stdout",
     "output_type": "stream",
     "text": [
      "Requirement already satisfied: google-api-python-client in /Users/hoandoan/opt/anaconda3/lib/python3.9/site-packages (2.47.0)\n",
      "Requirement already satisfied: google-auth<3.0.0dev,>=1.16.0 in /Users/hoandoan/opt/anaconda3/lib/python3.9/site-packages (from google-api-python-client) (2.6.6)\n",
      "Requirement already satisfied: uritemplate<5,>=3.0.1 in /Users/hoandoan/opt/anaconda3/lib/python3.9/site-packages (from google-api-python-client) (4.1.1)\n",
      "Requirement already satisfied: google-api-core!=2.0.*,!=2.1.*,!=2.2.*,!=2.3.0,<3.0.0dev,>=1.31.5 in /Users/hoandoan/opt/anaconda3/lib/python3.9/site-packages (from google-api-python-client) (2.7.2)\n",
      "Requirement already satisfied: httplib2<1dev,>=0.15.0 in /Users/hoandoan/opt/anaconda3/lib/python3.9/site-packages (from google-api-python-client) (0.20.4)\n",
      "Requirement already satisfied: google-auth-httplib2>=0.1.0 in /Users/hoandoan/opt/anaconda3/lib/python3.9/site-packages (from google-api-python-client) (0.1.0)\n",
      "Requirement already satisfied: protobuf>=3.12.0 in /Users/hoandoan/opt/anaconda3/lib/python3.9/site-packages (from google-api-core!=2.0.*,!=2.1.*,!=2.2.*,!=2.3.0,<3.0.0dev,>=1.31.5->google-api-python-client) (3.20.1)\n",
      "Requirement already satisfied: googleapis-common-protos<2.0dev,>=1.52.0 in /Users/hoandoan/opt/anaconda3/lib/python3.9/site-packages (from google-api-core!=2.0.*,!=2.1.*,!=2.2.*,!=2.3.0,<3.0.0dev,>=1.31.5->google-api-python-client) (1.56.0)\n",
      "Requirement already satisfied: requests<3.0.0dev,>=2.18.0 in /Users/hoandoan/opt/anaconda3/lib/python3.9/site-packages (from google-api-core!=2.0.*,!=2.1.*,!=2.2.*,!=2.3.0,<3.0.0dev,>=1.31.5->google-api-python-client) (2.26.0)\n",
      "Requirement already satisfied: pyasn1-modules>=0.2.1 in /Users/hoandoan/opt/anaconda3/lib/python3.9/site-packages (from google-auth<3.0.0dev,>=1.16.0->google-api-python-client) (0.2.8)\n",
      "Requirement already satisfied: cachetools<6.0,>=2.0.0 in /Users/hoandoan/opt/anaconda3/lib/python3.9/site-packages (from google-auth<3.0.0dev,>=1.16.0->google-api-python-client) (5.0.0)\n",
      "Requirement already satisfied: rsa<5,>=3.1.4 in /Users/hoandoan/opt/anaconda3/lib/python3.9/site-packages (from google-auth<3.0.0dev,>=1.16.0->google-api-python-client) (4.8)\n",
      "Requirement already satisfied: six>=1.9.0 in /Users/hoandoan/opt/anaconda3/lib/python3.9/site-packages (from google-auth<3.0.0dev,>=1.16.0->google-api-python-client) (1.16.0)\n",
      "Requirement already satisfied: pyparsing!=3.0.0,!=3.0.1,!=3.0.2,!=3.0.3,<4,>=2.4.2 in /Users/hoandoan/opt/anaconda3/lib/python3.9/site-packages (from httplib2<1dev,>=0.15.0->google-api-python-client) (3.0.4)\n",
      "Requirement already satisfied: pyasn1<0.5.0,>=0.4.6 in /Users/hoandoan/opt/anaconda3/lib/python3.9/site-packages (from pyasn1-modules>=0.2.1->google-auth<3.0.0dev,>=1.16.0->google-api-python-client) (0.4.8)\n",
      "Requirement already satisfied: idna<4,>=2.5 in /Users/hoandoan/opt/anaconda3/lib/python3.9/site-packages (from requests<3.0.0dev,>=2.18.0->google-api-core!=2.0.*,!=2.1.*,!=2.2.*,!=2.3.0,<3.0.0dev,>=1.31.5->google-api-python-client) (3.2)\n",
      "Requirement already satisfied: charset-normalizer~=2.0.0 in /Users/hoandoan/opt/anaconda3/lib/python3.9/site-packages (from requests<3.0.0dev,>=2.18.0->google-api-core!=2.0.*,!=2.1.*,!=2.2.*,!=2.3.0,<3.0.0dev,>=1.31.5->google-api-python-client) (2.0.4)\n",
      "Requirement already satisfied: urllib3<1.27,>=1.21.1 in /Users/hoandoan/opt/anaconda3/lib/python3.9/site-packages (from requests<3.0.0dev,>=2.18.0->google-api-core!=2.0.*,!=2.1.*,!=2.2.*,!=2.3.0,<3.0.0dev,>=1.31.5->google-api-python-client) (1.26.7)\n",
      "Requirement already satisfied: certifi>=2017.4.17 in /Users/hoandoan/opt/anaconda3/lib/python3.9/site-packages (from requests<3.0.0dev,>=2.18.0->google-api-core!=2.0.*,!=2.1.*,!=2.2.*,!=2.3.0,<3.0.0dev,>=1.31.5->google-api-python-client) (2021.10.8)\n",
      "Note: you may need to restart the kernel to use updated packages.\n",
      "Requirement already satisfied: google-auth-oauthlib in /Users/hoandoan/opt/anaconda3/lib/python3.9/site-packages (0.5.1)\n",
      "Requirement already satisfied: google-auth-httplib2 in /Users/hoandoan/opt/anaconda3/lib/python3.9/site-packages (0.1.0)\n",
      "Requirement already satisfied: google-auth>=1.0.0 in /Users/hoandoan/opt/anaconda3/lib/python3.9/site-packages (from google-auth-oauthlib) (2.6.6)\n",
      "Requirement already satisfied: requests-oauthlib>=0.7.0 in /Users/hoandoan/opt/anaconda3/lib/python3.9/site-packages (from google-auth-oauthlib) (1.3.1)\n",
      "Requirement already satisfied: httplib2>=0.15.0 in /Users/hoandoan/opt/anaconda3/lib/python3.9/site-packages (from google-auth-httplib2) (0.20.4)\n",
      "Requirement already satisfied: six in /Users/hoandoan/opt/anaconda3/lib/python3.9/site-packages (from google-auth-httplib2) (1.16.0)\n",
      "Requirement already satisfied: rsa<5,>=3.1.4 in /Users/hoandoan/opt/anaconda3/lib/python3.9/site-packages (from google-auth>=1.0.0->google-auth-oauthlib) (4.8)\n",
      "Requirement already satisfied: cachetools<6.0,>=2.0.0 in /Users/hoandoan/opt/anaconda3/lib/python3.9/site-packages (from google-auth>=1.0.0->google-auth-oauthlib) (5.0.0)\n",
      "Requirement already satisfied: pyasn1-modules>=0.2.1 in /Users/hoandoan/opt/anaconda3/lib/python3.9/site-packages (from google-auth>=1.0.0->google-auth-oauthlib) (0.2.8)\n",
      "Requirement already satisfied: pyparsing!=3.0.0,!=3.0.1,!=3.0.2,!=3.0.3,<4,>=2.4.2 in /Users/hoandoan/opt/anaconda3/lib/python3.9/site-packages (from httplib2>=0.15.0->google-auth-httplib2) (3.0.4)\n",
      "Requirement already satisfied: pyasn1<0.5.0,>=0.4.6 in /Users/hoandoan/opt/anaconda3/lib/python3.9/site-packages (from pyasn1-modules>=0.2.1->google-auth>=1.0.0->google-auth-oauthlib) (0.4.8)\n",
      "Requirement already satisfied: requests>=2.0.0 in /Users/hoandoan/opt/anaconda3/lib/python3.9/site-packages (from requests-oauthlib>=0.7.0->google-auth-oauthlib) (2.26.0)\n",
      "Requirement already satisfied: oauthlib>=3.0.0 in /Users/hoandoan/opt/anaconda3/lib/python3.9/site-packages (from requests-oauthlib>=0.7.0->google-auth-oauthlib) (3.2.0)\n",
      "Requirement already satisfied: idna<4,>=2.5 in /Users/hoandoan/opt/anaconda3/lib/python3.9/site-packages (from requests>=2.0.0->requests-oauthlib>=0.7.0->google-auth-oauthlib) (3.2)\n",
      "Requirement already satisfied: certifi>=2017.4.17 in /Users/hoandoan/opt/anaconda3/lib/python3.9/site-packages (from requests>=2.0.0->requests-oauthlib>=0.7.0->google-auth-oauthlib) (2021.10.8)\n",
      "Requirement already satisfied: urllib3<1.27,>=1.21.1 in /Users/hoandoan/opt/anaconda3/lib/python3.9/site-packages (from requests>=2.0.0->requests-oauthlib>=0.7.0->google-auth-oauthlib) (1.26.7)\n",
      "Requirement already satisfied: charset-normalizer~=2.0.0 in /Users/hoandoan/opt/anaconda3/lib/python3.9/site-packages (from requests>=2.0.0->requests-oauthlib>=0.7.0->google-auth-oauthlib) (2.0.4)\n",
      "Note: you may need to restart the kernel to use updated packages.\n"
     ]
    }
   ],
   "source": [
    "#Setting up api\n",
    "%pip install --upgrade google-api-python-client\n",
    "%pip install --upgrade google-auth-oauthlib google-auth-httplib2"
   ]
  },
  {
   "cell_type": "code",
   "execution_count": 4,
   "metadata": {},
   "outputs": [
    {
     "name": "stdout",
     "output_type": "stream",
     "text": [
      "Please visit this URL to authorize this application: https://accounts.google.com/o/oauth2/auth?response_type=code&client_id=762825694253-q6tj16h2fnd42dqp617ut6d2ase2k06o.apps.googleusercontent.com&redirect_uri=urn%3Aietf%3Awg%3Aoauth%3A2.0%3Aoob&scope=https%3A%2F%2Fwww.googleapis.com%2Fauth%2Fyoutube.readonly&state=C9kwUCXfAMWTYEMWha7WnDA8Fygz0l&prompt=consent&access_type=offline\n"
     ]
    }
   ],
   "source": [
    "#load data from youtube\n",
    "# -*- coding: utf-8 -*-\n",
    "\n",
    "# Sample Python code for youtube.videos.list\n",
    "# See instructions for running these code samples locally:\n",
    "# https://developers.google.com/explorer-help/code-samples#python\n",
    "\n",
    "import os\n",
    "\n",
    "import google_auth_oauthlib.flow\n",
    "import googleapiclient.discovery\n",
    "import googleapiclient.errors\n",
    "\n",
    "scopes = [\"https://www.googleapis.com/auth/youtube.readonly\"]\n",
    "\n",
    "def main():\n",
    "    # Disable OAuthlib's HTTPS verification when running locally.\n",
    "    # *DO NOT* leave this option enabled in production.\n",
    "    os.environ[\"OAUTHLIB_INSECURE_TRANSPORT\"] = \"1\"\n",
    "\n",
    "    api_service_name = \"youtube\"\n",
    "    api_version = \"v3\"\n",
    "    client_secrets_file = \"client_secrets_file.json\"\n",
    "\n",
    "    # Get credentials and create an API client\n",
    "    flow = google_auth_oauthlib.flow.InstalledAppFlow.from_client_secrets_file(\n",
    "        client_secrets_file, scopes)\n",
    "    credentials = flow.run_console()\n",
    "    youtube = googleapiclient.discovery.build(\n",
    "        api_service_name, api_version, credentials=credentials)\n",
    "    maxResults=50\n",
    "    request = youtube.videos().list(\n",
    "        part=\"snippet,contentDetails,statistics\",\n",
    "        chart=\"mostPopular\",\n",
    "        regionCode=\"VN\",\n",
    "        maxResults=maxResults\n",
    "    )\n",
    "    items = []\n",
    "    response = request.execute()\n",
    "\n",
    "    for item in response['items']:\n",
    "        items.append(item)\n",
    "\n",
    "    totalResults=response['pageInfo']['totalResults']\n",
    "    for page in range(int(totalResults/maxResults - 1)):\n",
    "        pageToken=response['nextPageToken']\n",
    "        request = youtube.videos().list(\n",
    "            part=\"snippet,contentDetails,statistics\",\n",
    "            chart=\"mostPopular\",\n",
    "            regionCode=\"VN\",\n",
    "            maxResults=maxResults,\n",
    "            pageToken=pageToken\n",
    "        )\n",
    "        response = request.execute()\n",
    "        for item in response['items']:\n",
    "            items.append(item)\n",
    "\n",
    "    f=open('data.json', 'w')\n",
    "    f.write(json.dumps(items))\n",
    "    f.close()\n",
    "    \n",
    "\n",
    "if __name__ == \"__main__\":\n",
    "    main()"
   ]
  }
 ],
 "metadata": {
  "interpreter": {
   "hash": "a7cb90b5957871012e32174547a6a9159bd3ab509e1f07ea3ae66d51cb83d169"
  },
  "kernelspec": {
   "display_name": "Python 3.9.7 ('base')",
   "language": "python",
   "name": "python3"
  },
  "language_info": {
   "codemirror_mode": {
    "name": "ipython",
    "version": 3
   },
   "file_extension": ".py",
   "mimetype": "text/x-python",
   "name": "python",
   "nbconvert_exporter": "python",
   "pygments_lexer": "ipython3",
   "version": "3.9.7"
  },
  "orig_nbformat": 4
 },
 "nbformat": 4,
 "nbformat_minor": 2
}
